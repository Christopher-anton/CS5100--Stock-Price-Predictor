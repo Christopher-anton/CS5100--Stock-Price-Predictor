{
 "cells": [
  {
   "cell_type": "code",
   "execution_count": 8,
   "metadata": {},
   "outputs": [
    {
     "ename": "ModuleNotFoundError",
     "evalue": "No module named 'source.dataset_setup'",
     "output_type": "error",
     "traceback": [
      "\u001b[1;31m---------------------------------------------------------------------------\u001b[0m",
      "\u001b[1;31mModuleNotFoundError\u001b[0m                       Traceback (most recent call last)",
      "\u001b[1;32ma:\\Academics_NEU\\sem_6\\CS5100--Stock-Price-Predictor\\code\\main.ipynb Cell 1\u001b[0m line \u001b[0;36m3\n\u001b[0;32m      <a href='vscode-notebook-cell:/a%3A/Academics_NEU/sem_6/CS5100--Stock-Price-Predictor/code/main.ipynb#W0sZmlsZQ%3D%3D?line=0'>1</a>\u001b[0m \u001b[39m# import sys\u001b[39;00m\n\u001b[0;32m      <a href='vscode-notebook-cell:/a%3A/Academics_NEU/sem_6/CS5100--Stock-Price-Predictor/code/main.ipynb#W0sZmlsZQ%3D%3D?line=1'>2</a>\u001b[0m \u001b[39m# sys.path.append('../')\u001b[39;00m\n\u001b[1;32m----> <a href='vscode-notebook-cell:/a%3A/Academics_NEU/sem_6/CS5100--Stock-Price-Predictor/code/main.ipynb#W0sZmlsZQ%3D%3D?line=2'>3</a>\u001b[0m \u001b[39mfrom\u001b[39;00m \u001b[39msource\u001b[39;00m\u001b[39m.\u001b[39;00m\u001b[39mdataset_setup\u001b[39;00m \u001b[39mimport\u001b[39;00m train_data\n",
      "\u001b[1;31mModuleNotFoundError\u001b[0m: No module named 'source.dataset_setup'"
     ]
    }
   ],
   "source": [
    "# import sys\n",
    "# sys.path.append('../')\n",
    "import dataset_setup from data\n",
    "\n"
   ]
  },
  {
   "cell_type": "code",
   "execution_count": null,
   "metadata": {},
   "outputs": [],
   "source": [
    "obj = train_data('A:\\Academics_NEU\\sem_6\\TSLA.csv',13,1)"
   ]
  }
 ],
 "metadata": {
  "kernelspec": {
   "display_name": "Python 3",
   "language": "python",
   "name": "python3"
  },
  "language_info": {
   "codemirror_mode": {
    "name": "ipython",
    "version": 3
   },
   "file_extension": ".py",
   "mimetype": "text/x-python",
   "name": "python",
   "nbconvert_exporter": "python",
   "pygments_lexer": "ipython3",
   "version": "3.11.5"
  }
 },
 "nbformat": 4,
 "nbformat_minor": 2
}
