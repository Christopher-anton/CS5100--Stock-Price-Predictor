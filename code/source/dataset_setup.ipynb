{
 "cells": [
  {
   "cell_type": "code",
   "execution_count": 43,
   "metadata": {},
   "outputs": [],
   "source": [
    "import numpy as np\n",
    "import pandas as pd\n",
    "from sklearn.preprocessing import StandardScaler"
   ]
  },
  {
   "cell_type": "code",
   "execution_count": 44,
   "metadata": {},
   "outputs": [],
   "source": [
    "class train_data:\n",
    "    def __init__(self, csv, past, future) -> None:\n",
    "        self.csv = csv\n",
    "        self.past = past\n",
    "        self.future = future\n",
    "    def csv_read(self):\n",
    "     df = pd.read_csv(self.csv)\n",
    "     train_dates = pd.to_datetime(df['Date'])\n",
    "     cols = list(df)[1:6]\n",
    "     for_training = df[cols].astype(float)\n",
    "\n",
    "     scaler = StandardScaler()\n",
    "     scaler  = scaler.fit(for_training)\n",
    "     scaled_for_training = scaler.transform(for_training)\n",
    "     trainX = []\n",
    "     trainY = []\n",
    "\n",
    "    #  past_days = 14\n",
    "    # future = 1\n",
    "\n",
    "     for i in range(self.past, len(scaled_for_training) -self.future +1):\n",
    "         trainX.append(scaled_for_training[i - self.past:i, 0:for_training.shape[1]])\n",
    "         trainY.append(scaled_for_training[i + self.future - 1:i +self.future, 0])\n",
    "     trainX, trainY = np.array(trainX), np.array(trainY)\n",
    "\n",
    "    #  print('trainX shape =={}.'.format(trainX.shape))\n",
    "    #  print('trainY shape == {}.'.format(trainY.shape))\n",
    "\n",
    "     return trainX, trainY"
   ]
  },
  {
   "cell_type": "code",
   "execution_count": 45,
   "metadata": {},
   "outputs": [],
   "source": [
    "# obj = train_data('A:\\Academics_NEU\\sem_6\\TSLA.csv',13,1)"
   ]
  },
  {
   "cell_type": "code",
   "execution_count": 46,
   "metadata": {},
   "outputs": [],
   "source": [
    "trainX , trainY =obj.csv_read()"
   ]
  },
  {
   "cell_type": "code",
   "execution_count": 47,
   "metadata": {},
   "outputs": [
    {
     "name": "stdout",
     "output_type": "stream",
     "text": [
      "[[[-1.28332299 -1.28457122 -1.27965521 -1.28164408 -1.28164408]\n",
      "  [-1.28020915 -1.28079144 -1.27492861 -1.27968617 -1.27968617]\n",
      "  [-1.27990744 -1.28290576 -1.27691453 -1.280224   -1.280224  ]\n",
      "  ...\n",
      "  [-1.27809706 -1.28343728 -1.28175865 -1.28766892 -1.28766892]\n",
      "  [-1.28874807 -1.29265053 -1.28908981 -1.29513802 -1.29513802]\n",
      "  [-1.29439039 -1.28750057 -1.28943006 -1.28294935 -1.28294935]]\n",
      "\n",
      " [[-1.28020915 -1.28079144 -1.27492861 -1.27968617 -1.27968617]\n",
      "  [-1.27990744 -1.28290576 -1.27691453 -1.280224   -1.280224  ]\n",
      "  [-1.28028761 -1.28539806 -1.28612641 -1.29184461 -1.29184461]\n",
      "  ...\n",
      "  [-1.28874807 -1.29265053 -1.28908981 -1.29513802 -1.29513802]\n",
      "  [-1.29439039 -1.28750057 -1.28943006 -1.28294935 -1.28294935]\n",
      "  [-1.28530837 -1.28706353 -1.28293411 -1.28420631 -1.28420631]]\n",
      "\n",
      " [[-1.27990744 -1.28290576 -1.27691453 -1.280224   -1.280224  ]\n",
      "  [-1.28028761 -1.28539806 -1.28612641 -1.29184461 -1.29184461]\n",
      "  [-1.28946619 -1.28839827 -1.2849757  -1.28734259 -1.28734259]\n",
      "  ...\n",
      "  [-1.29439039 -1.28750057 -1.28943006 -1.28294935 -1.28294935]\n",
      "  [-1.28530837 -1.28706353 -1.28293411 -1.28420631 -1.28420631]\n",
      "  [-1.28172384 -1.28628395 -1.27878289 -1.28181932 -1.28181932]]\n",
      "\n",
      " ...\n",
      "\n",
      " [[ 0.77290275  0.77058361  0.81538458  0.80960877  0.80960877]\n",
      "  [ 0.77335537  0.78635241  0.80239272  0.81803878  0.81803878]\n",
      "  [ 0.79689011  0.76376236  0.75599301  0.70772432  0.70772432]\n",
      "  ...\n",
      "  [ 0.40385853  0.37618617  0.3160309   0.29692359  0.29692359]\n",
      "  [ 0.28473606  0.30460636  0.31046302  0.32846782  0.32846782]\n",
      "  [ 0.35642675  0.33286622  0.34554119  0.37215854  0.37215854]]\n",
      "\n",
      " [[ 0.77335537  0.78635241  0.80239272  0.81803878  0.81803878]\n",
      "  [ 0.79689011  0.76376236  0.75599301  0.70772432  0.70772432]\n",
      "  [ 0.55475296  0.55097192  0.52121044  0.50313979  0.50313979]\n",
      "  ...\n",
      "  [ 0.28473606  0.30460636  0.31046302  0.32846782  0.32846782]\n",
      "  [ 0.35642675  0.33286622  0.34554119  0.37215854  0.37215854]\n",
      "  [ 0.4372599   0.44989202  0.47174832  0.48863662  0.48863662]]\n",
      "\n",
      " [[ 0.79689011  0.76376236  0.75599301  0.70772432  0.70772432]\n",
      "  [ 0.55475296  0.55097192  0.52121044  0.50313979  0.50313979]\n",
      "  [ 0.47382934  0.44688003  0.46218999  0.42953651  0.42953651]\n",
      "  ...\n",
      "  [ 0.35642675  0.33286622  0.34554119  0.37215854  0.37215854]\n",
      "  [ 0.4372599   0.44989202  0.47174832  0.48863662  0.48863662]\n",
      "  [ 0.51130402  0.5134102   0.5362439   0.50178018  0.50178018]]]\n"
     ]
    }
   ],
   "source": [
    "print(trainX)"
   ]
  },
  {
   "cell_type": "code",
   "execution_count": null,
   "metadata": {},
   "outputs": [],
   "source": []
  }
 ],
 "metadata": {
  "kernelspec": {
   "display_name": "Python 3",
   "language": "python",
   "name": "python3"
  },
  "language_info": {
   "codemirror_mode": {
    "name": "ipython",
    "version": 3
   },
   "file_extension": ".py",
   "mimetype": "text/x-python",
   "name": "python",
   "nbconvert_exporter": "python",
   "pygments_lexer": "ipython3",
   "version": "3.11.5"
  }
 },
 "nbformat": 4,
 "nbformat_minor": 2
}
